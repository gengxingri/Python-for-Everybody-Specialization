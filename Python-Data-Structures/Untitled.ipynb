{
 "cells": [
  {
   "cell_type": "code",
   "execution_count": 22,
   "id": "1f01ce9f",
   "metadata": {},
   "outputs": [
    {
     "name": "stdout",
     "output_type": "stream",
     "text": [
      "Enter file:mbox-short.txt\n",
      "cwen@iupui.edu 5\n"
     ]
    }
   ],
   "source": [
    "name = input(\"Enter file:\")\n",
    "counts=dict()\n",
    "email_list=[]\n",
    "if len(name) < 1:\n",
    "    name = \"mbox-short.txt\"\n",
    "handle = open(name)\n",
    "for line in handle:\n",
    "    if line.startswith('From '):\n",
    "        line.rstrip()\n",
    "        line_list=line.split()\n",
    "        email_list.append(line_list[1])\n",
    "#print(email_list)      \n",
    "for email in email_list:\n",
    "\tcounts[email]=counts.get(email,0)+1\n",
    "#find the profilic committer\n",
    "num=0\n",
    "for k,v in counts.items():\n",
    "    if v>num:\n",
    "        num=v\n",
    "        committer=k\n",
    "print(committer, num)\n",
    "        \n",
    "        "
   ]
  },
  {
   "cell_type": "code",
   "execution_count": null,
   "id": "110b4ef1",
   "metadata": {},
   "outputs": [],
   "source": []
  }
 ],
 "metadata": {
  "kernelspec": {
   "display_name": "Python 3 (ipykernel)",
   "language": "python",
   "name": "python3"
  },
  "language_info": {
   "codemirror_mode": {
    "name": "ipython",
    "version": 3
   },
   "file_extension": ".py",
   "mimetype": "text/x-python",
   "name": "python",
   "nbconvert_exporter": "python",
   "pygments_lexer": "ipython3",
   "version": "3.9.7"
  }
 },
 "nbformat": 4,
 "nbformat_minor": 5
}
