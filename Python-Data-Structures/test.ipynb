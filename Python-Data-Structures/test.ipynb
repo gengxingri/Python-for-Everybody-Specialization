{
 "cells": [
  {
   "cell_type": "code",
   "execution_count": 1,
   "id": "85c5850a",
   "metadata": {},
   "outputs": [],
   "source": [
    "strings='''But soft what light through yonder window breaks\n",
    "It is the east and Juliet is the sun\n",
    "Arise fair sun and kill the envious moon\n",
    "Who is already sick and pale with grief'''"
   ]
  },
  {
   "cell_type": "code",
   "execution_count": 7,
   "id": "721156aa",
   "metadata": {},
   "outputs": [],
   "source": [
    "splited_words=strings.split()"
   ]
  },
  {
   "cell_type": "code",
   "execution_count": 5,
   "id": "b4c6d2bf",
   "metadata": {},
   "outputs": [],
   "source": [
    "splited_words.sort()"
   ]
  },
  {
   "cell_type": "code",
   "execution_count": 11,
   "id": "62ae8cdc",
   "metadata": {},
   "outputs": [
    {
     "name": "stdout",
     "output_type": "stream",
     "text": [
      "Enter file name: romeo.txt\n",
      "['Arise', 'But', 'It', 'Juliet', 'Who', 'already', 'and', 'breaks', 'east', 'envious', 'fair', 'grief', 'is', 'kill', 'light', 'moon', 'pale', 'sick', 'soft', 'sun', 'the', 'through', 'what', 'window', 'with', 'yonder']\n"
     ]
    }
   ],
   "source": [
    "fname = input(\"Enter file name: \")\n",
    "fh = open(fname)\n",
    "\n",
    "\n",
    "lis=list()\n",
    "for line in fh:\n",
    "    line=line.rstrip()\n",
    "    x=line.split()\n",
    "    #check the words \n",
    "    for  word in x:\n",
    "       if word not in lis:\n",
    "          lis.append(word) \n",
    "lis.sort()\n",
    "print(lis)"
   ]
  },
  {
   "cell_type": "code",
   "execution_count": 9,
   "id": "9b6a0280",
   "metadata": {},
   "outputs": [
    {
     "data": {
      "text/plain": [
       "['Arise',\n",
       " 'But',\n",
       " 'It',\n",
       " 'Juliet',\n",
       " 'Who',\n",
       " 'already',\n",
       " 'and',\n",
       " 'and',\n",
       " 'and',\n",
       " 'breaks',\n",
       " 'east',\n",
       " 'envious',\n",
       " 'fair',\n",
       " 'grief',\n",
       " 'is',\n",
       " 'is',\n",
       " 'is',\n",
       " 'kill',\n",
       " 'light',\n",
       " 'moon',\n",
       " 'pale',\n",
       " 'sick',\n",
       " 'soft',\n",
       " 'sun',\n",
       " 'sun',\n",
       " 'the',\n",
       " 'the',\n",
       " 'the',\n",
       " 'through',\n",
       " 'what',\n",
       " 'window',\n",
       " 'with',\n",
       " 'yonder']"
      ]
     },
     "execution_count": 9,
     "metadata": {},
     "output_type": "execute_result"
    }
   ],
   "source": [
    "sorted(splited_words)\n"
   ]
  },
  {
   "cell_type": "code",
   "execution_count": 12,
   "id": "9ebddb85",
   "metadata": {},
   "outputs": [
    {
     "name": "stdout",
     "output_type": "stream",
     "text": [
      "Enter file name: romeo.txt\n",
      "['Arise', 'But', 'It', 'Juliet', 'Who', 'already', 'and', 'breaks', 'east', 'envious', 'fair', 'grief', 'is', 'kill', 'light', 'moon', 'pale', 'sick', 'soft', 'sun', 'the', 'through', 'what', 'window', 'with', 'yonder']\n"
     ]
    }
   ],
   "source": [
    "fname = input(\"Enter file name: \")\n",
    "fh = open(fname)\n",
    "\n",
    "\n",
    "lis=list()\n",
    "for line in fh:\n",
    "    line=line.rstrip()\n",
    "    x=line.split()\n",
    "    #check the words \n",
    "    for  word in x:\n",
    "       if word not in lis:\n",
    "          lis.append(word) \n",
    "lis.sort()\n",
    "print(lis)"
   ]
  },
  {
   "cell_type": "code",
   "execution_count": null,
   "id": "6453acee",
   "metadata": {},
   "outputs": [],
   "source": []
  }
 ],
 "metadata": {
  "kernelspec": {
   "display_name": "Python 3 (ipykernel)",
   "language": "python",
   "name": "python3"
  },
  "language_info": {
   "codemirror_mode": {
    "name": "ipython",
    "version": 3
   },
   "file_extension": ".py",
   "mimetype": "text/x-python",
   "name": "python",
   "nbconvert_exporter": "python",
   "pygments_lexer": "ipython3",
   "version": "3.9.7"
  }
 },
 "nbformat": 4,
 "nbformat_minor": 5
}
